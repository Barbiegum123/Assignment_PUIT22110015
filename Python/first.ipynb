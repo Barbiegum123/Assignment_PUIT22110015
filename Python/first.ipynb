{
 "cells": [
  {
   "cell_type": "markdown",
   "id": "c444eeeb",
   "metadata": {},
   "source": [
    "TRIAL"
   ]
  },
  {
   "cell_type": "code",
   "execution_count": null,
   "id": "19f78974",
   "metadata": {},
   "outputs": [
    {
     "name": "stdout",
     "output_type": "stream",
     "text": [
      "25\n"
     ]
    }
   ],
   "source": [
    "#addition operation\n",
    "a=5\n",
    "b=20\n",
    "c=a+b\n",
    "print(c)"
   ]
  },
  {
   "cell_type": "code",
   "execution_count": 4,
   "id": "4da363d1",
   "metadata": {},
   "outputs": [
    {
     "name": "stdout",
     "output_type": "stream",
     "text": [
      "25.0 + 6.0 = 31.0\n",
      "25.0 * 6.0 = 150.0\n",
      "25.0 / 6.0 = 4.166666666666667\n",
      "25.0 % 6.0 = 1.0\n"
     ]
    }
   ],
   "source": [
    "#Input two numbers\n",
    "\n",
    "num1 = float(input(\"Enter the first number: \"))\n",
    "num2 = float(input(\"Enter the second number: \"))\n",
    "\n",
    "# Addition\n",
    "addition = num1 + num2\n",
    "print(f\"{num1} + {num2} = {addition}\")\n",
    "\n",
    "# Multiplication\n",
    "multiplication = num1 * num2\n",
    "print(f\"{num1} * {num2} = {multiplication}\")\n",
    "\n",
    "\n",
    "# Division (with error handling)\n",
    "if num2 != 0:\n",
    "    division = num1 / num2\n",
    "    print(f\"{num1} / {num2} = {division}\")\n",
    "else:\n",
    "    print(\"Error: Cannot divide by zero!\")\n",
    "\n",
    "\n",
    "# Step 6: Modulus (with error handling)\n",
    "if num2 != 0:\n",
    "    modulus = num1 % num2\n",
    "    print(f\"{num1} % {num2} = {modulus}\")\n",
    "else:\n",
    "    print(\"Error: Cannot perform modulus with zero!\")"
   ]
  },
  {
   "cell_type": "code",
   "execution_count": 1,
   "id": "ca7ba86a",
   "metadata": {},
   "outputs": [
    {
     "name": "stdout",
     "output_type": "stream",
     "text": [
      "140718193669320\n",
      "140718193669320\n"
     ]
    }
   ],
   "source": [
    "\n",
    "x = 10 \n",
    "y = 10 \n",
    "print(id(x)) \n",
    "print(id(y)) "
   ]
  },
  {
   "cell_type": "code",
   "execution_count": 2,
   "id": "e75f6384",
   "metadata": {},
   "outputs": [
    {
     "name": "stdout",
     "output_type": "stream",
     "text": [
      "2782095102896\n"
     ]
    }
   ],
   "source": [
    "message = \"Hello\" \n",
    "print(id(message))"
   ]
  }
 ],
 "metadata": {
  "kernelspec": {
   "display_name": "Python 3",
   "language": "python",
   "name": "python3"
  },
  "language_info": {
   "codemirror_mode": {
    "name": "ipython",
    "version": 3
   },
   "file_extension": ".py",
   "mimetype": "text/x-python",
   "name": "python",
   "nbconvert_exporter": "python",
   "pygments_lexer": "ipython3",
   "version": "3.13.7"
  }
 },
 "nbformat": 4,
 "nbformat_minor": 5
}
